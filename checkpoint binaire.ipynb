{
 "cells": [
  {
   "cell_type": "code",
   "execution_count": 1,
   "id": "b2504f3b",
   "metadata": {},
   "outputs": [
    {
     "data": {
      "text/plain": [
       "[1, 2, 3, 4, 5, 6, 7, 8, 9, 10]"
      ]
     },
     "execution_count": 1,
     "metadata": {},
     "output_type": "execute_result"
    }
   ],
   "source": [
    "[1,2,3,4,5,6,7,8,9,10]"
   ]
  },
  {
   "cell_type": "code",
   "execution_count": 2,
   "id": "8a7480d7",
   "metadata": {},
   "outputs": [],
   "source": [
    "def recherche_binaire(l, c):\n",
    "    return recherche_binaire_r(l, c, 0, len(l)-1)"
   ]
  },
  {
   "cell_type": "code",
   "execution_count": 3,
   "id": "f5da98e7",
   "metadata": {},
   "outputs": [],
   "source": [
    "def recherche_binaire_r(l, c, g, d):\n",
    "    mile = (g + d) // 2"
   ]
  },
  {
   "cell_type": "code",
   "execution_count": 4,
   "id": "63e65034",
   "metadata": {},
   "outputs": [],
   "source": [
    "def puissance (a, b):\n",
    "    resultat = a ** b\n",
    "    return resultat"
   ]
  },
  {
   "cell_type": "code",
   "execution_count": 5,
   "id": "fd70b279",
   "metadata": {},
   "outputs": [],
   "source": [
    "def tri_bulles (liste):\n",
    "    n = len(liste)\n",
    "    for i in range (n):\n",
    "        \n",
    "        \n",
    "        for j in range(0, n-1-i):\n",
    "            if liste[j] > liste[j+1]:\n",
    "                liste[j], liste[j+1] = liste[j+1], liste[j]"
   ]
  },
  {
   "cell_type": "code",
   "execution_count": 16,
   "id": "6c30f7dc",
   "metadata": {},
   "outputs": [
    {
     "name": "stdout",
     "output_type": "stream",
     "text": [
      "Résultat trié : [13, 22, 29, 37, 46, 49, 52, 56, 71]\n"
     ]
    }
   ],
   "source": [
    "def tri_fusion(liste):\n",
    "    if len(liste) > 1:\n",
    "        milieu = len(liste) // 2\n",
    "        moitie_gauche = liste[:milieu]\n",
    "        moitie_droite = liste[milieu:]\n",
    "\n",
    "        tri_fusion(moitie_gauche)\n",
    "        tri_fusion(moitie_droite)\n",
    "\n",
    "        i = j = k = 0\n",
    "\n",
    "\n",
    "        while i < len(moitie_gauche) and j < len(moitie_droite):\n",
    "            if moitie_gauche[i] < moitie_droite[j]:\n",
    "                liste[k] = moitie_gauche[i]\n",
    "                i += 1\n",
    "            else:\n",
    "                liste[k] = moitie_droite[j]\n",
    "                j += 1\n",
    "            k += 1\n",
    "\n",
    "\n",
    "        while i < len(moitie_gauche):\n",
    "            liste[k] = moitie_gauche[i]\n",
    "            i += 1\n",
    "            k += 1\n",
    "\n",
    "        while j < len(moitie_droite):\n",
    "            liste[k] = moitie_droite[j]\n",
    "            j += 1\n",
    "            k += 1\n",
    "\n",
    "donnees_exemple = [29, 13, 22, 37, 52, 49, 46, 71, 56]\n",
    "\n",
    "\n",
    "tri_fusion(donnees_exemple)\n",
    "\n",
    "\n",
    "print(\"Résultat trié :\", donnees_exemple)\n"
   ]
  },
  {
   "cell_type": "code",
   "execution_count": 15,
   "id": "4fd95361",
   "metadata": {},
   "outputs": [],
   "source": [
    "def tri_rapide(liste):\n",
    "    if len(liste) <= 1:\n",
    "        return liste\n",
    "    else:\n",
    "        pivot = liste[0]\n",
    "        inferieur = [element for element in liste[1:] if element <= pivot]\n",
    "        superieur = [element for element in liste[1:] if element > pivot]\n",
    "\n",
    "        return tri_rapide(inferieur) + [pivot] + tri_rapide(superieur)\n"
   ]
  },
  {
   "cell_type": "code",
   "execution_count": null,
   "id": "ffc8e7ef",
   "metadata": {},
   "outputs": [],
   "source": []
  }
 ],
 "metadata": {
  "kernelspec": {
   "display_name": "Python 3 (ipykernel)",
   "language": "python",
   "name": "python3"
  },
  "language_info": {
   "codemirror_mode": {
    "name": "ipython",
    "version": 3
   },
   "file_extension": ".py",
   "mimetype": "text/x-python",
   "name": "python",
   "nbconvert_exporter": "python",
   "pygments_lexer": "ipython3",
   "version": "3.11.5"
  }
 },
 "nbformat": 4,
 "nbformat_minor": 5
}
