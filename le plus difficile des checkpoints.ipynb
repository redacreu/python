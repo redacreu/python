{
 "cells": [
  {
   "cell_type": "code",
   "execution_count": 1,
   "id": "1f82369a",
   "metadata": {},
   "outputs": [],
   "source": [
    "\n",
    "import numpy as np"
   ]
  },
  {
   "cell_type": "code",
   "execution_count": 2,
   "id": "0989f43c",
   "metadata": {},
   "outputs": [
    {
     "name": "stdout",
     "output_type": "stream",
     "text": [
      "donnez moi le nombre d'etudiants:  2\n"
     ]
    }
   ],
   "source": [
    "ne = int(input(\"donnez moi le nombre d'etudiants: \"))"
   ]
  },
  {
   "cell_type": "code",
   "execution_count": 3,
   "id": "5f048f54",
   "metadata": {},
   "outputs": [
    {
     "name": "stdout",
     "output_type": "stream",
     "text": [
      "donnez moi le nombre de matiere 3\n"
     ]
    }
   ],
   "source": [
    "nm = int(input(\"donnez moi le nombre de matiere\"))"
   ]
  },
  {
   "cell_type": "code",
   "execution_count": 4,
   "id": "3551d413",
   "metadata": {},
   "outputs": [
    {
     "data": {
      "text/plain": [
       "array([[0., 0., 0.],\n",
       "       [0., 0., 0.]])"
      ]
     },
     "execution_count": 4,
     "metadata": {},
     "output_type": "execute_result"
    }
   ],
   "source": [
    "T = np.zeros((ne,nm))\n",
    "T"
   ]
  },
  {
   "cell_type": "code",
   "execution_count": 5,
   "id": "b7aece2b",
   "metadata": {},
   "outputs": [
    {
     "data": {
      "text/plain": [
       "0.0"
      ]
     },
     "execution_count": 5,
     "metadata": {},
     "output_type": "execute_result"
    }
   ],
   "source": [
    "T[0,0]"
   ]
  },
  {
   "cell_type": "code",
   "execution_count": 7,
   "id": "54b4f2e0",
   "metadata": {},
   "outputs": [
    {
     "name": "stdout",
     "output_type": "stream",
     "text": [
      "donnez moi la note de l'etudiant 0 16\n",
      "donnez moi la note de l'etudiant 017\n",
      "donnez moi la note de l'etudiant 0 18\n",
      "donnez moi la note de l'etudiant 119\n",
      "donnez moi la note de l'etudiant 1  20\n",
      "donnez moi la note de l'etudiant 120\n"
     ]
    }
   ],
   "source": [
    "for i in range (ne):\n",
    "     for g in range (nm): \n",
    "        T[i,g]=int(input(f\"donnez moi la note de l'etudiant {i}\"))\n",
    "    "
   ]
  },
  {
   "cell_type": "code",
   "execution_count": 11,
   "id": "f17c4144",
   "metadata": {},
   "outputs": [],
   "source": [
    "tsum = T.sum(axis=1)"
   ]
  },
  {
   "cell_type": "code",
   "execution_count": 17,
   "id": "b850a872",
   "metadata": {},
   "outputs": [],
   "source": [
    "pourcentage=(tsum/(nm*20))*100"
   ]
  },
  {
   "cell_type": "code",
   "execution_count": 18,
   "id": "891ff82f",
   "metadata": {},
   "outputs": [
    {
     "data": {
      "text/plain": [
       "array([85.        , 98.33333333])"
      ]
     },
     "execution_count": 18,
     "metadata": {},
     "output_type": "execute_result"
    }
   ],
   "source": [
    "pourcentage"
   ]
  },
  {
   "cell_type": "code",
   "execution_count": 26,
   "id": "a9cc367e",
   "metadata": {},
   "outputs": [
    {
     "name": "stdout",
     "output_type": "stream",
     "text": [
      "['A', 'A+']\n"
     ]
    }
   ],
   "source": [
    "grade = []\n",
    "for e in pourcentage:\n",
    "    if e > 90 :\n",
    "        grade.append(\"A+\")\n",
    "    elif e > 80 :\n",
    "        grade.append (\"A\")\n",
    "    elif e > 70 :\n",
    "        grade.append (\"B+\")\n",
    "    elif e >  60 :\n",
    "        grade.append (\"B\")\n",
    "    elif e > 50 :\n",
    "        grade.append (\"C\")\n",
    "    else :\n",
    "        grade.append (\"F\")\n",
    "print (grade)\n"
   ]
  },
  {
   "cell_type": "code",
   "execution_count": null,
   "id": "10418756",
   "metadata": {},
   "outputs": [],
   "source": []
  }
 ],
 "metadata": {
  "kernelspec": {
   "display_name": "Python 3 (ipykernel)",
   "language": "python",
   "name": "python3"
  },
  "language_info": {
   "codemirror_mode": {
    "name": "ipython",
    "version": 3
   },
   "file_extension": ".py",
   "mimetype": "text/x-python",
   "name": "python",
   "nbconvert_exporter": "python",
   "pygments_lexer": "ipython3",
   "version": "3.11.5"
  }
 },
 "nbformat": 4,
 "nbformat_minor": 5
}
