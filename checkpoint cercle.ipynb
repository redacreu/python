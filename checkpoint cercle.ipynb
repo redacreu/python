{
 "cells": [
  {
   "cell_type": "code",
   "execution_count": 2,
   "id": "0f4e454e",
   "metadata": {},
   "outputs": [],
   "source": [
    "from math import pi"
   ]
  },
  {
   "cell_type": "code",
   "execution_count": 3,
   "id": "1a71c9f7",
   "metadata": {},
   "outputs": [],
   "source": [
    "class Point3d:\n",
    "    def __init__(self,x,y,z):\n",
    "        self.x=x \n",
    "        self.y=y\n",
    "        self.z=z\n",
    "my_point=Point3d(x=1,y=2,z=3) \n"
   ]
  },
  {
   "cell_type": "code",
   "execution_count": 4,
   "id": "e80a43d7",
   "metadata": {},
   "outputs": [
    {
     "data": {
      "text/plain": [
       "14"
      ]
     },
     "execution_count": 4,
     "metadata": {},
     "output_type": "execute_result"
    }
   ],
   "source": [
    "class Rectangle:\n",
    "    def __init__(self,longueur,largeur):\n",
    "        self.longueur=longueur\n",
    "        self.largeur=largeur\n",
    "        \n",
    "    def aire(self):\n",
    "        return self.longueur*self.largeur\n",
    "    def perimetre(self):\n",
    "        return 2*(self.longueur+self.largeur)\n",
    "    \n",
    "    \n",
    "        \n",
    "        \n",
    "        \n",
    "mon_rectangle = Rectangle(longueur=4,largeur=3)\n",
    "mon_rectangle.perimetre()"
   ]
  },
  {
   "cell_type": "code",
   "execution_count": 7,
   "id": "aedfbc40",
   "metadata": {},
   "outputs": [],
   "source": [
    "class cercle:\n",
    "    def __init__(self,centre,rayon):\n",
    "        self.centre=centre\n",
    "        self.rayon=rayon\n",
    "           \n",
    "    def aire(self):\n",
    "        return self.rayon*self.rayon*P\n"
   ]
  },
  {
   "cell_type": "code",
   "execution_count": 6,
   "id": "69ba985a",
   "metadata": {},
   "outputs": [],
   "source": [
    "class banque: \n",
    "    def __init__(self,solde):\n",
    "        self.solde=solde\n",
    "        \n",
    "           \n",
    "             \n",
    "    def depot(self,depot):\n",
    "        self.solde=self.solde+depot\n",
    "        return self.solde\n",
    "    \n",
    "    def retrait(self,retrait):\n",
    "        return self.solde-retrait"
   ]
  },
  {
   "cell_type": "code",
   "execution_count": null,
   "id": "e457ceb6",
   "metadata": {},
   "outputs": [],
   "source": []
  }
 ],
 "metadata": {
  "kernelspec": {
   "display_name": "Python 3 (ipykernel)",
   "language": "python",
   "name": "python3"
  },
  "language_info": {
   "codemirror_mode": {
    "name": "ipython",
    "version": 3
   },
   "file_extension": ".py",
   "mimetype": "text/x-python",
   "name": "python",
   "nbconvert_exporter": "python",
   "pygments_lexer": "ipython3",
   "version": "3.11.5"
  }
 },
 "nbformat": 4,
 "nbformat_minor": 5
}
