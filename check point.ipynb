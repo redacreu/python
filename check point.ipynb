{
 "cells": [
  {
   "cell_type": "code",
   "execution_count": null,
   "id": "4cdd6462",
   "metadata": {},
   "outputs": [],
   "source": [
    "n = input('donnez moi un nombre ')"
   ]
  },
  {
   "cell_type": "code",
   "execution_count": null,
   "id": "19a5f241",
   "metadata": {},
   "outputs": [],
   "source": []
  },
  {
   "cell_type": "code",
   "execution_count": null,
   "id": "caf7e9b2",
   "metadata": {},
   "outputs": [],
   "source": [
    "n = int(input('ne donne pas de nombre'))"
   ]
  },
  {
   "cell_type": "code",
   "execution_count": null,
   "id": "24eee6d7",
   "metadata": {},
   "outputs": [],
   "source": [
    "print(n)"
   ]
  },
  {
   "cell_type": "code",
   "execution_count": null,
   "id": "660691a0",
   "metadata": {},
   "outputs": [],
   "source": [
    "int (n)"
   ]
  },
  {
   "cell_type": "code",
   "execution_count": null,
   "id": "78ab5365",
   "metadata": {},
   "outputs": [],
   "source": [
    "n+0"
   ]
  },
  {
   "cell_type": "code",
   "execution_count": 8,
   "id": "ff5e1bc7",
   "metadata": {},
   "outputs": [],
   "source": [
    "import random"
   ]
  },
  {
   "cell_type": "code",
   "execution_count": null,
   "id": "0817b0d9",
   "metadata": {},
   "outputs": [],
   "source": []
  },
  {
   "cell_type": "code",
   "execution_count": 9,
   "id": "aa0ef873",
   "metadata": {},
   "outputs": [
    {
     "data": {
      "text/plain": [
       "32"
      ]
     },
     "execution_count": 9,
     "metadata": {},
     "output_type": "execute_result"
    }
   ],
   "source": [
    "x = random.randint(1,100)\n",
    "x"
   ]
  },
  {
   "cell_type": "code",
   "execution_count": 12,
   "id": "4c6f1934",
   "metadata": {},
   "outputs": [
    {
     "name": "stdout",
     "output_type": "stream",
     "text": [
      "Donnez moi un nombre 12\n",
      "encore plus\n",
      "Donnez moi un nombre 45\n",
      "encore moins\n",
      "Donnez moi un nombre 32\n",
      "bien jouer vous avez gagner\n"
     ]
    }
   ],
   "source": [
    "while True:\n",
    "    n = int(input('Donnez moi un nombre '))\n",
    "    if n < x:\n",
    "     print ('encore plus')\n",
    "    elif n > x:\n",
    "     print ('encore moins')\n",
    "    else:\n",
    "     print ('bien jouer vous avez gagner')\n",
    "     break"
   ]
  },
  {
   "cell_type": "code",
   "execution_count": null,
   "id": "4b301790",
   "metadata": {},
   "outputs": [],
   "source": []
  },
  {
   "cell_type": "code",
   "execution_count": null,
   "id": "13ef78a9",
   "metadata": {},
   "outputs": [],
   "source": []
  }
 ],
 "metadata": {
  "kernelspec": {
   "display_name": "Python 3 (ipykernel)",
   "language": "python",
   "name": "python3"
  },
  "language_info": {
   "codemirror_mode": {
    "name": "ipython",
    "version": 3
   },
   "file_extension": ".py",
   "mimetype": "text/x-python",
   "name": "python",
   "nbconvert_exporter": "python",
   "pygments_lexer": "ipython3",
   "version": "3.11.5"
  }
 },
 "nbformat": 4,
 "nbformat_minor": 5
}
