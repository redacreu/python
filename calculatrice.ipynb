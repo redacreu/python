{
 "cells": [
  {
   "cell_type": "code",
   "execution_count": 1,
   "id": "af690a23",
   "metadata": {},
   "outputs": [
    {
     "data": {
      "text/plain": [
       "50"
      ]
     },
     "execution_count": 1,
     "metadata": {},
     "output_type": "execute_result"
    }
   ],
   "source": [
    "maximum = lambda L:max(L)\n",
    "carre = lambda n,b:n*b \n",
    "carre = lambda b,n:b*n\n",
    "carre (10,5)\n",
    "def calculatrice (num1,num2):\n",
    "    return num1*num2\n",
    "calculatrice(num1=5,num2=10)\n"
   ]
  },
  {
   "cell_type": "code",
   "execution_count": 2,
   "id": "0b9cfcbd",
   "metadata": {},
   "outputs": [
    {
     "data": {
      "text/plain": [
       "50"
      ]
     },
     "execution_count": 2,
     "metadata": {},
     "output_type": "execute_result"
    }
   ],
   "source": [
    "maximum = lambda L:max(L)\n",
    "carre = lambda n,b:n+b\n",
    "carre (10,40)\n",
    "def calculatrice (num1,num2):\n",
    "    return num1+num2\n",
    "calculatrice(num1=10,num2=40)"
   ]
  },
  {
   "cell_type": "code",
   "execution_count": 3,
   "id": "34e4d923",
   "metadata": {},
   "outputs": [
    {
     "ename": "NameError",
     "evalue": "name 'mi' is not defined",
     "output_type": "error",
     "traceback": [
      "\u001b[0;31m---------------------------------------------------------------------------\u001b[0m",
      "\u001b[0;31mNameError\u001b[0m                                 Traceback (most recent call last)",
      "Cell \u001b[0;32mIn[3], line 7\u001b[0m\n\u001b[1;32m      5\u001b[0m     \u001b[38;5;28;01mreturn\u001b[39;00m  num1\u001b[38;5;241m-\u001b[39mnum2\n\u001b[1;32m      6\u001b[0m calculatrice(num1\u001b[38;5;241m=\u001b[39m\u001b[38;5;241m85\u001b[39m,num2\u001b[38;5;241m=\u001b[39m\u001b[38;5;241m85\u001b[39m)\n\u001b[0;32m----> 7\u001b[0m \u001b[38;5;28mabs\u001b[39m:mi\n",
      "\u001b[0;31mNameError\u001b[0m: name 'mi' is not defined"
     ]
    }
   ],
   "source": [
    "maximum = lambda L:max(L)\n",
    "carre = lambda n,b:n-b\n",
    "carre (85,85)\n",
    "def calculatrice (num1,num2):\n",
    "    return  num1-num2\n",
    "calculatrice(num1=85,num2=85)\n",
    "abs:mi"
   ]
  },
  {
   "cell_type": "code",
   "execution_count": 5,
   "id": "b8294154",
   "metadata": {},
   "outputs": [],
   "source": [
    "def calculatrice (num1,num2):\n",
    "    op = input (\"donner moi un operateur\")\n",
    "    if op==\"+\":\n",
    "        return num1+num2\n",
    "    elif op==\"-\":\n",
    "        return num1-num2\n",
    "    elif op==\"*\":\n",
    "        return num1*num2\n",
    "    elif op==\"/\":\n",
    "        return num1/num2\n",
    "    "
   ]
  },
  {
   "cell_type": "code",
   "execution_count": 8,
   "id": "67560457",
   "metadata": {},
   "outputs": [
    {
     "name": "stdout",
     "output_type": "stream",
     "text": [
      "donner moi un nombre12\n",
      "donner num287\n",
      "donner moi un operateur*\n"
     ]
    },
    {
     "data": {
      "text/plain": [
       "1044"
      ]
     },
     "execution_count": 8,
     "metadata": {},
     "output_type": "execute_result"
    }
   ],
   "source": [
    "num1 = int (input (\"donner moi un nombre\"))\n",
    "num2 = int (input (\"donner num2\"))\n",
    "calculatrice(num1,num2)"
   ]
  },
  {
   "cell_type": "code",
   "execution_count": null,
   "id": "57bca1a6",
   "metadata": {},
   "outputs": [],
   "source": []
  }
 ],
 "metadata": {
  "kernelspec": {
   "display_name": "Python 3 (ipykernel)",
   "language": "python",
   "name": "python3"
  },
  "language_info": {
   "codemirror_mode": {
    "name": "ipython",
    "version": 3
   },
   "file_extension": ".py",
   "mimetype": "text/x-python",
   "name": "python",
   "nbconvert_exporter": "python",
   "pygments_lexer": "ipython3",
   "version": "3.11.5"
  }
 },
 "nbformat": 4,
 "nbformat_minor": 5
}
